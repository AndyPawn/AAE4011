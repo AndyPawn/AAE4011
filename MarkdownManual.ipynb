{
 "cells": [
  {
   "cell_type": "markdown",
   "metadata": {},
   "source": [
    "# Jupyter Notebook Markdown Reference Guide\n",
    "\n",
    "This notebook serves as a quick reference for Markdown formatting in Jupyter Notebooks."
   ]
  },
  {
   "cell_type": "markdown",
   "metadata": {},
   "source": [
    "## Basic Text Formatting\n",
    "\n",
    "**Bold text** is created with `**double asterisks**`\n",
    "\n",
    "*Italic text* is created with `*single asterisks*`\n",
    "\n",
    "***Bold and italic*** is created with `***triple asterisks***`\n",
    "\n",
    "~~Strikethrough~~ is created with `~~double tildes~~`\n",
    "\n",
    "`Inline code` is created with backticks \\`like this\\`"
   ]
  },
  {
   "cell_type": "markdown",
   "metadata": {},
   "source": [
    "## Headers\n",
    "\n",
    "# H1 Header with `# H1 Header`\n",
    "## H2 Header with `## H2 Header`\n",
    "### H3 Header with `### H3 Header`\n",
    "#### H4 Header with `#### H4 Header`\n",
    "##### H5 Header with `##### H5 Header`\n",
    "###### H6 Header with `###### H6 Header`"
   ]
  },
  {
   "cell_type": "markdown",
   "metadata": {},
   "source": [
    "## Lists\n",
    "\n",
    "### Unordered Lists\n",
    "- Item 1\n",
    "- Item 2\n",
    "  - Nested item 2.1\n",
    "  - Nested item 2.2\n",
    "- Item 3\n",
    "\n",
    "```\n",
    "- Item 1\n",
    "- Item 2\n",
    "  - Nested item 2.1\n",
    "  - Nested item 2.2\n",
    "- Item 3\n",
    "```\n",
    "\n",
    "### Ordered Lists\n",
    "1. First item\n",
    "2. Second item\n",
    "   1. Nested item 2.1\n",
    "   2. Nested item 2.2\n",
    "3. Third item\n",
    "\n",
    "```\n",
    "1. First item\n",
    "2. Second item\n",
    "   1. Nested item 2.1\n",
    "   2. Nested item 2.2\n",
    "3. Third item\n",
    "```"
   ]
  },
  {
   "cell_type": "markdown",
   "metadata": {},
   "source": [
    "## Links and Images\n",
    "\n",
    "### Links\n",
    "[Jupyter Documentation](https://jupyter.org/documentation)\n",
    "\n",
    "`[Jupyter Documentation](https://jupyter.org/documentation)`\n",
    "\n",
    "### Images\n",
    "![Jupyter Logo](https://jupyter.org/assets/homepage/main-logo.svg)\n",
    "\n",
    "`![Jupyter Logo](https://jupyter.org/assets/homepage/main-logo.svg)`"
   ]
  },
  {
   "cell_type": "markdown",
   "metadata": {},
   "source": [
    "## Blockquotes\n",
    "\n",
    "> This is a blockquote.\n",
    ">\n",
    "> It can span multiple lines.\n",
    "\n",
    "```\n",
    "> This is a blockquote.\n",
    ">\n",
    "> It can span multiple lines.\n",
    "```"
   ]
  },
  {
   "cell_type": "markdown",
   "metadata": {},
   "source": [
    "## Horizontal Rule\n",
    "\n",
    "Three or more hyphens, asterisks, or underscores:\n",
    "\n",
    "---\n",
    "\n",
    "`---` or `***` or `___`"
   ]
  },
  {
   "cell_type": "markdown",
   "metadata": {},
   "source": [
    "## Tables\n",
    "\n",
    "| Column 1 | Column 2 | Column 3 |\n",
    "|----------|----------|----------|\n",
    "| Row 1    | Data     | Data     |\n",
    "| Row 2    | Data     | Data     |\n",
    "| Row 3    | Data     | Data     |\n",
    "\n",
    "```\n",
    "| Column 1 | Column 2 | Column 3 |\n",
    "|----------|----------|----------|\n",
    "| Row 1    | Data     | Data     |\n",
    "| Row 2    | Data     | Data     |\n",
    "| Row 3    | Data     | Data     |\n",
    "```"
   ]
  },
  {
   "cell_type": "markdown",
   "metadata": {},
   "source": [
    "## Code Blocks\n",
    "\n",
    "Syntax highlighting for Python:\n",
    "\n",
    "```python\n",
    "def hello_world():\n",
    "    print(\"Hello, World!\")\n",
    "    \n",
    "# Call the function\n",
    "hello_world()\n",
    "```\n",
    "\n",
    "Syntax highlighting for JavaScript:\n",
    "\n",
    "```javascript\n",
    "function helloWorld() {\n",
    "    console.log(\"Hello, World!\");\n",
    "}\n",
    "\n",
    "// Call the function\n",
    "helloWorld();\n",
    "```"
   ]
  },
  {
   "cell_type": "markdown",
   "metadata": {},
   "source": [
    "## LaTeX Math Equations\n",
    "\n",
    "### Inline Math\n",
    "\n",
    "Einstein's famous equation: $E = mc^2$\n",
    "\n",
    "`$E = mc^2$`\n",
    "\n",
    "### Display Math\n",
    "\n",
    "The quadratic formula:\n",
    "\n",
    "$$x = \\frac{-b \\pm \\sqrt{b^2 - 4ac}}{2a}$$\n",
    "\n",
    "`$$x = \\frac{-b \\pm \\sqrt{b^2 - 4ac}}{2a}$$`\n",
    "\n",
    "### More LaTeX Examples\n",
    "\n",
    "Fractions and integrals:\n",
    "\n",
    "$$\\int_{a}^{b} f(x) \\, dx = F(b) - F(a)$$\n",
    "\n",
    "Summations:\n",
    "\n",
    "$$\\sum_{i=1}^{n} i = \\frac{n(n+1)}{2}$$\n",
    "\n",
    "Matrix:\n",
    "\n",
    "$$\\begin{pmatrix}\n",
    "a & b \\\\\n",
    "c & d\n",
    "\\end{pmatrix}$$"
   ]
  },
  {
   "cell_type": "markdown",
   "metadata": {},
   "source": [
    "## Task Lists\n",
    "\n",
    "- [x] Completed task\n",
    "- [ ] Incomplete task\n",
    "- [ ] Another task\n",
    "\n",
    "```\n",
    "- [x] Completed task\n",
    "- [ ] Incomplete task\n",
    "- [ ] Another task\n",
    "```"
   ]
  },
  {
   "cell_type": "markdown",
   "metadata": {},
   "source": [
    "## Footnotes\n",
    "\n",
    "Here is a sentence with a footnote.[^1]\n",
    "\n",
    "[^1]: This is the footnote content.\n",
    "\n",
    "```\n",
    "Here is a sentence with a footnote.[^1]\n",
    "\n",
    "[^1]: This is the footnote content.\n",
    "```"
   ]
  },
  {
   "cell_type": "markdown",
   "metadata": {},
   "source": [
    "## HTML in Markdown\n",
    "\n",
    "Markdown supports inline HTML:\n",
    "\n",
    "<div style=\"background-color: #f0f0f0; padding: 10px; border-radius: 5px;\">\n",
    "  <h3>This is an HTML block</h3>\n",
    "  <p>With custom styling</p>\n",
    "</div>\n",
    "\n",
    "```html\n",
    "<div style=\"background-color: #f0f0f0; padding: 10px; border-radius: 5px;\">\n",
    "  <h3>This is an HTML block</h3>\n",
    "  <p>With custom styling</p>\n",
    "</div>\n",
    "```"
   ]
  },
  {
   "cell_type": "code",
   "execution_count": null,
   "metadata": {},
   "outputs": [],
   "source": [
    "# This is a code cell, not markdown\n",
    "# You can execute Python code here\n",
    "print(\"Hello from a code cell!\")"
   ]
  },
  {
   "cell_type": "markdown",
   "metadata": {},
   "source": [
    "## Interactive Elements in Notebooks\n",
    "\n",
    "To see interactive elements, execute the code cell below. Note that these are code cells, not markdown."
   ]
  },
  {
   "cell_type": "code",
   "execution_count": null,
   "metadata": {},
   "outputs": [],
   "source": [
    "# Interactive matplotlib example\n",
    "import matplotlib.pyplot as plt\n",
    "import numpy as np\n",
    "%matplotlib inline\n",
    "\n",
    "x = np.linspace(0, 10, 100)\n",
    "plt.figure(figsize=(8, 4))\n",
    "plt.plot(x, np.sin(x))\n",
    "plt.title(\"Sine Wave\")\n",
    "plt.xlabel(\"x\")\n",
    "plt.ylabel(\"sin(x)\")\n",
    "plt.grid(True)\n",
    "plt.show()"
   ]
  },
  {
   "cell_type": "markdown",
   "metadata": {},
   "source": [
    "## Tips and Best Practices\n",
    "\n",
    "1. Use keyboard shortcuts to convert cells: \n",
    "   - Press `Esc` followed by `m` to convert a cell to markdown\n",
    "   - Press `Esc` followed by `y` to convert a cell to code\n",
    "   \n",
    "2. Preview markdown as you type by pressing `Shift+Enter` to execute the cell\n",
    "\n",
    "3. For more complex layouts, consider using HTML within your markdown cells\n",
    "\n",
    "4. Remember that LaTeX support allows for complex mathematical notations"
   ]
  }
 ],
 "metadata": {
  "kernelspec": {
   "display_name": "Python 3",
   "language": "python",
   "name": "python3"
  },
  "language_info": {
   "codemirror_mode": {
    "name": "ipython",
    "version": 3
   },
   "file_extension": ".py",
   "mimetype": "text/x-python",
   "name": "python",
   "nbconvert_exporter": "python",
   "pygments_lexer": "ipython3",
   "version": "3.8.8"
  }
 },
 "nbformat": 4,
 "nbformat_minor": 4
}
